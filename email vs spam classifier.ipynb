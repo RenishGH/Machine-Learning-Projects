{
 "cells": [
  {
   "cell_type": "markdown",
   "metadata": {},
   "source": [
    "## Agenda/Aim:\n",
    "\n",
    "**Preprocess the data:** Clean the data and remove any irrelevant information. Since the data is already in numerical form, there is no need to convert it.\n",
    "**Train the models**: Train several supervised classification models, such as logistic regression, K-nearest neighbors, support vector machines, naive Bayes, decision trees, random forests, and gradient boosting, using the preprocessed data.\n",
    "**Evaluate the models:** Evaluate the performance of the models using metrics such as accuracy, precision, recall, and F1-score.\n",
    "**Choose the best model:** Based on the evaluation, choose the best model that provides the highest accuracy and has the best overall performance.\n",
    "**The overall aim of this project is to train a machine learning model on the given email data to predict whether an email is spam or not spam, and to choose the best model for this classification task.\n",
    "\n",
    "Here are some additional details that could be included in the agenda/aim:\n",
    "\n",
    "The specific dataset that will be used for training and evaluation.\n",
    "The specific machine learning algorithms that will be used.\n",
    "The evaluation metrics that will be used to compare the models.\n",
    "The criteria that will be used to choose the best model.\n",
    "I hope this helps! Let me know if you have any other questions."
   ]
  },
  {
   "cell_type": "markdown",
   "metadata": {},
   "source": [
    "## Import libraries"
   ]
  },
  {
   "cell_type": "code",
   "execution_count": 10,
   "metadata": {
    "execution": {
     "iopub.execute_input": "2023-01-30T05:52:58.693221Z",
     "iopub.status.busy": "2023-01-30T05:52:58.692744Z",
     "iopub.status.idle": "2023-01-30T05:52:58.701309Z",
     "shell.execute_reply": "2023-01-30T05:52:58.699690Z",
     "shell.execute_reply.started": "2023-01-30T05:52:58.693157Z"
    }
   },
   "outputs": [],
   "source": [
    "import pandas as pd\n",
    "import numpy as np\n",
    "from sklearn.model_selection import train_test_split\n",
    "from sklearn.linear_model import LogisticRegression\n",
    "from sklearn.neighbors import KNeighborsClassifier\n",
    "from sklearn.svm import SVC\n",
    "from sklearn.naive_bayes import GaussianNB\n",
    "from sklearn.tree import DecisionTreeClassifier\n",
    "from sklearn.ensemble import RandomForestClassifier, GradientBoostingClassifier\n",
    "from sklearn.metrics import accuracy_score, precision_score, recall_score, f1_score\n",
    "\n",
    "import matplotlib.pyplot as plt"
   ]
  },
  {
   "cell_type": "markdown",
   "metadata": {},
   "source": [
    "## Load and Preprocess the data\n",
    "\n",
    "Below code will load the data from the csv file into a pandas dataframe, remove the first column which is the email number, replace all non-numeric characters with NaN values, fill the missing values with 0, convert the data into integer type, and store it as dataframe named 'df'."
   ]
  },
  {
   "cell_type": "code",
   "execution_count": 12,
   "metadata": {
    "execution": {
     "iopub.execute_input": "2023-01-30T05:22:43.860068Z",
     "iopub.status.busy": "2023-01-30T05:22:43.859680Z",
     "iopub.status.idle": "2023-01-30T05:22:45.583298Z",
     "shell.execute_reply": "2023-01-30T05:22:45.582090Z",
     "shell.execute_reply.started": "2023-01-30T05:22:43.860037Z"
    }
   },
   "outputs": [
    {
     "data": {
      "text/html": [
       "<div>\n",
       "<style scoped>\n",
       "    .dataframe tbody tr th:only-of-type {\n",
       "        vertical-align: middle;\n",
       "    }\n",
       "\n",
       "    .dataframe tbody tr th {\n",
       "        vertical-align: top;\n",
       "    }\n",
       "\n",
       "    .dataframe thead th {\n",
       "        text-align: right;\n",
       "    }\n",
       "</style>\n",
       "<table border=\"1\" class=\"dataframe\">\n",
       "  <thead>\n",
       "    <tr style=\"text-align: right;\">\n",
       "      <th></th>\n",
       "      <th>the</th>\n",
       "      <th>to</th>\n",
       "      <th>ect</th>\n",
       "      <th>and</th>\n",
       "      <th>for</th>\n",
       "      <th>of</th>\n",
       "      <th>a</th>\n",
       "      <th>you</th>\n",
       "      <th>hou</th>\n",
       "      <th>in</th>\n",
       "      <th>...</th>\n",
       "      <th>connevey</th>\n",
       "      <th>jay</th>\n",
       "      <th>valued</th>\n",
       "      <th>lay</th>\n",
       "      <th>infrastructure</th>\n",
       "      <th>military</th>\n",
       "      <th>allowing</th>\n",
       "      <th>ff</th>\n",
       "      <th>dry</th>\n",
       "      <th>Prediction</th>\n",
       "    </tr>\n",
       "  </thead>\n",
       "  <tbody>\n",
       "    <tr>\n",
       "      <th>0</th>\n",
       "      <td>0</td>\n",
       "      <td>0</td>\n",
       "      <td>1</td>\n",
       "      <td>0</td>\n",
       "      <td>0</td>\n",
       "      <td>0</td>\n",
       "      <td>2</td>\n",
       "      <td>0</td>\n",
       "      <td>0</td>\n",
       "      <td>0</td>\n",
       "      <td>...</td>\n",
       "      <td>0</td>\n",
       "      <td>0</td>\n",
       "      <td>0</td>\n",
       "      <td>0</td>\n",
       "      <td>0</td>\n",
       "      <td>0</td>\n",
       "      <td>0</td>\n",
       "      <td>0</td>\n",
       "      <td>0</td>\n",
       "      <td>0</td>\n",
       "    </tr>\n",
       "    <tr>\n",
       "      <th>1</th>\n",
       "      <td>8</td>\n",
       "      <td>13</td>\n",
       "      <td>24</td>\n",
       "      <td>6</td>\n",
       "      <td>6</td>\n",
       "      <td>2</td>\n",
       "      <td>102</td>\n",
       "      <td>1</td>\n",
       "      <td>27</td>\n",
       "      <td>18</td>\n",
       "      <td>...</td>\n",
       "      <td>0</td>\n",
       "      <td>0</td>\n",
       "      <td>0</td>\n",
       "      <td>0</td>\n",
       "      <td>0</td>\n",
       "      <td>0</td>\n",
       "      <td>0</td>\n",
       "      <td>1</td>\n",
       "      <td>0</td>\n",
       "      <td>0</td>\n",
       "    </tr>\n",
       "    <tr>\n",
       "      <th>2</th>\n",
       "      <td>0</td>\n",
       "      <td>0</td>\n",
       "      <td>1</td>\n",
       "      <td>0</td>\n",
       "      <td>0</td>\n",
       "      <td>0</td>\n",
       "      <td>8</td>\n",
       "      <td>0</td>\n",
       "      <td>0</td>\n",
       "      <td>4</td>\n",
       "      <td>...</td>\n",
       "      <td>0</td>\n",
       "      <td>0</td>\n",
       "      <td>0</td>\n",
       "      <td>0</td>\n",
       "      <td>0</td>\n",
       "      <td>0</td>\n",
       "      <td>0</td>\n",
       "      <td>0</td>\n",
       "      <td>0</td>\n",
       "      <td>0</td>\n",
       "    </tr>\n",
       "    <tr>\n",
       "      <th>3</th>\n",
       "      <td>0</td>\n",
       "      <td>5</td>\n",
       "      <td>22</td>\n",
       "      <td>0</td>\n",
       "      <td>5</td>\n",
       "      <td>1</td>\n",
       "      <td>51</td>\n",
       "      <td>2</td>\n",
       "      <td>10</td>\n",
       "      <td>1</td>\n",
       "      <td>...</td>\n",
       "      <td>0</td>\n",
       "      <td>0</td>\n",
       "      <td>0</td>\n",
       "      <td>0</td>\n",
       "      <td>0</td>\n",
       "      <td>0</td>\n",
       "      <td>0</td>\n",
       "      <td>0</td>\n",
       "      <td>0</td>\n",
       "      <td>0</td>\n",
       "    </tr>\n",
       "    <tr>\n",
       "      <th>4</th>\n",
       "      <td>7</td>\n",
       "      <td>6</td>\n",
       "      <td>17</td>\n",
       "      <td>1</td>\n",
       "      <td>5</td>\n",
       "      <td>2</td>\n",
       "      <td>57</td>\n",
       "      <td>0</td>\n",
       "      <td>9</td>\n",
       "      <td>3</td>\n",
       "      <td>...</td>\n",
       "      <td>0</td>\n",
       "      <td>0</td>\n",
       "      <td>0</td>\n",
       "      <td>0</td>\n",
       "      <td>0</td>\n",
       "      <td>0</td>\n",
       "      <td>0</td>\n",
       "      <td>1</td>\n",
       "      <td>0</td>\n",
       "      <td>0</td>\n",
       "    </tr>\n",
       "    <tr>\n",
       "      <th>...</th>\n",
       "      <td>...</td>\n",
       "      <td>...</td>\n",
       "      <td>...</td>\n",
       "      <td>...</td>\n",
       "      <td>...</td>\n",
       "      <td>...</td>\n",
       "      <td>...</td>\n",
       "      <td>...</td>\n",
       "      <td>...</td>\n",
       "      <td>...</td>\n",
       "      <td>...</td>\n",
       "      <td>...</td>\n",
       "      <td>...</td>\n",
       "      <td>...</td>\n",
       "      <td>...</td>\n",
       "      <td>...</td>\n",
       "      <td>...</td>\n",
       "      <td>...</td>\n",
       "      <td>...</td>\n",
       "      <td>...</td>\n",
       "      <td>...</td>\n",
       "    </tr>\n",
       "    <tr>\n",
       "      <th>5167</th>\n",
       "      <td>2</td>\n",
       "      <td>2</td>\n",
       "      <td>2</td>\n",
       "      <td>3</td>\n",
       "      <td>0</td>\n",
       "      <td>0</td>\n",
       "      <td>32</td>\n",
       "      <td>0</td>\n",
       "      <td>0</td>\n",
       "      <td>5</td>\n",
       "      <td>...</td>\n",
       "      <td>0</td>\n",
       "      <td>0</td>\n",
       "      <td>0</td>\n",
       "      <td>0</td>\n",
       "      <td>0</td>\n",
       "      <td>0</td>\n",
       "      <td>0</td>\n",
       "      <td>0</td>\n",
       "      <td>0</td>\n",
       "      <td>0</td>\n",
       "    </tr>\n",
       "    <tr>\n",
       "      <th>5168</th>\n",
       "      <td>35</td>\n",
       "      <td>27</td>\n",
       "      <td>11</td>\n",
       "      <td>2</td>\n",
       "      <td>6</td>\n",
       "      <td>5</td>\n",
       "      <td>151</td>\n",
       "      <td>4</td>\n",
       "      <td>3</td>\n",
       "      <td>23</td>\n",
       "      <td>...</td>\n",
       "      <td>0</td>\n",
       "      <td>0</td>\n",
       "      <td>0</td>\n",
       "      <td>0</td>\n",
       "      <td>0</td>\n",
       "      <td>0</td>\n",
       "      <td>0</td>\n",
       "      <td>1</td>\n",
       "      <td>0</td>\n",
       "      <td>0</td>\n",
       "    </tr>\n",
       "    <tr>\n",
       "      <th>5169</th>\n",
       "      <td>0</td>\n",
       "      <td>0</td>\n",
       "      <td>1</td>\n",
       "      <td>1</td>\n",
       "      <td>0</td>\n",
       "      <td>0</td>\n",
       "      <td>11</td>\n",
       "      <td>0</td>\n",
       "      <td>0</td>\n",
       "      <td>1</td>\n",
       "      <td>...</td>\n",
       "      <td>0</td>\n",
       "      <td>0</td>\n",
       "      <td>0</td>\n",
       "      <td>0</td>\n",
       "      <td>0</td>\n",
       "      <td>0</td>\n",
       "      <td>0</td>\n",
       "      <td>0</td>\n",
       "      <td>0</td>\n",
       "      <td>1</td>\n",
       "    </tr>\n",
       "    <tr>\n",
       "      <th>5170</th>\n",
       "      <td>2</td>\n",
       "      <td>7</td>\n",
       "      <td>1</td>\n",
       "      <td>0</td>\n",
       "      <td>2</td>\n",
       "      <td>1</td>\n",
       "      <td>28</td>\n",
       "      <td>2</td>\n",
       "      <td>0</td>\n",
       "      <td>8</td>\n",
       "      <td>...</td>\n",
       "      <td>0</td>\n",
       "      <td>0</td>\n",
       "      <td>0</td>\n",
       "      <td>0</td>\n",
       "      <td>0</td>\n",
       "      <td>0</td>\n",
       "      <td>0</td>\n",
       "      <td>1</td>\n",
       "      <td>0</td>\n",
       "      <td>1</td>\n",
       "    </tr>\n",
       "    <tr>\n",
       "      <th>5171</th>\n",
       "      <td>22</td>\n",
       "      <td>24</td>\n",
       "      <td>5</td>\n",
       "      <td>1</td>\n",
       "      <td>6</td>\n",
       "      <td>5</td>\n",
       "      <td>148</td>\n",
       "      <td>8</td>\n",
       "      <td>2</td>\n",
       "      <td>23</td>\n",
       "      <td>...</td>\n",
       "      <td>0</td>\n",
       "      <td>0</td>\n",
       "      <td>0</td>\n",
       "      <td>0</td>\n",
       "      <td>0</td>\n",
       "      <td>0</td>\n",
       "      <td>0</td>\n",
       "      <td>0</td>\n",
       "      <td>0</td>\n",
       "      <td>0</td>\n",
       "    </tr>\n",
       "  </tbody>\n",
       "</table>\n",
       "<p>5172 rows × 3001 columns</p>\n",
       "</div>"
      ],
      "text/plain": [
       "      the  to  ect  and  for  of    a  you  hou  in  ...  connevey  jay  \\\n",
       "0       0   0    1    0    0   0    2    0    0   0  ...         0    0   \n",
       "1       8  13   24    6    6   2  102    1   27  18  ...         0    0   \n",
       "2       0   0    1    0    0   0    8    0    0   4  ...         0    0   \n",
       "3       0   5   22    0    5   1   51    2   10   1  ...         0    0   \n",
       "4       7   6   17    1    5   2   57    0    9   3  ...         0    0   \n",
       "...   ...  ..  ...  ...  ...  ..  ...  ...  ...  ..  ...       ...  ...   \n",
       "5167    2   2    2    3    0   0   32    0    0   5  ...         0    0   \n",
       "5168   35  27   11    2    6   5  151    4    3  23  ...         0    0   \n",
       "5169    0   0    1    1    0   0   11    0    0   1  ...         0    0   \n",
       "5170    2   7    1    0    2   1   28    2    0   8  ...         0    0   \n",
       "5171   22  24    5    1    6   5  148    8    2  23  ...         0    0   \n",
       "\n",
       "      valued  lay  infrastructure  military  allowing  ff  dry  Prediction  \n",
       "0          0    0               0         0         0   0    0           0  \n",
       "1          0    0               0         0         0   1    0           0  \n",
       "2          0    0               0         0         0   0    0           0  \n",
       "3          0    0               0         0         0   0    0           0  \n",
       "4          0    0               0         0         0   1    0           0  \n",
       "...      ...  ...             ...       ...       ...  ..  ...         ...  \n",
       "5167       0    0               0         0         0   0    0           0  \n",
       "5168       0    0               0         0         0   1    0           0  \n",
       "5169       0    0               0         0         0   0    0           1  \n",
       "5170       0    0               0         0         0   1    0           1  \n",
       "5171       0    0               0         0         0   0    0           0  \n",
       "\n",
       "[5172 rows x 3001 columns]"
      ]
     },
     "execution_count": 12,
     "metadata": {},
     "output_type": "execute_result"
    }
   ],
   "source": [
    "# Load the data from csv file into a pandas dataframe\n",
    "df = pd.read_csv(\"C:/Users/Renish Minari/Downloads/spam and email/emails.csv\")\n",
    "\n",
    "# Remove the first column (Email name) as it is not relevant for the prediction\n",
    "df = df.drop(columns=['Email No.'])\n",
    "\n",
    "# Replace non-numeric characters with NaN values\n",
    "df = df.replace(r'[^\\d.]+', value=float('nan'), regex=True)\n",
    "\n",
    "# Fill missing values with 0\n",
    "df.fillna(0, inplace=True)\n",
    "\n",
    "# Convert the data into integer type\n",
    "df = df.astype(int)\n",
    "df"
   ]
  },
  {
   "cell_type": "markdown",
   "metadata": {},
   "source": [
    "## Train the models"
   ]
  },
  {
   "cell_type": "code",
   "execution_count": 13,
   "metadata": {
    "execution": {
     "iopub.execute_input": "2023-01-30T05:45:21.137267Z",
     "iopub.status.busy": "2023-01-30T05:45:21.136847Z",
     "iopub.status.idle": "2023-01-30T05:45:21.143071Z",
     "shell.execute_reply": "2023-01-30T05:45:21.142072Z",
     "shell.execute_reply.started": "2023-01-30T05:45:21.137234Z"
    }
   },
   "outputs": [],
   "source": [
    "# Split the data into features (X) and labels (y)\n",
    "X = df.iloc[:, :-1].values\n",
    "y = df.iloc[:, -1].values"
   ]
  },
  {
   "cell_type": "code",
   "execution_count": 14,
   "metadata": {
    "execution": {
     "iopub.execute_input": "2023-01-30T05:45:34.992432Z",
     "iopub.status.busy": "2023-01-30T05:45:34.992008Z",
     "iopub.status.idle": "2023-01-30T05:45:35.205592Z",
     "shell.execute_reply": "2023-01-30T05:45:35.204478Z",
     "shell.execute_reply.started": "2023-01-30T05:45:34.992397Z"
    }
   },
   "outputs": [],
   "source": [
    "# Split the data into training and testing sets\n",
    "X_train, X_test, y_train, y_test = train_test_split(X, y, test_size=0.2, random_state=0)"
   ]
  },
  {
   "cell_type": "code",
   "execution_count": 15,
   "metadata": {
    "execution": {
     "iopub.execute_input": "2023-01-30T05:45:46.991299Z",
     "iopub.status.busy": "2023-01-30T05:45:46.990865Z",
     "iopub.status.idle": "2023-01-30T05:45:46.995904Z",
     "shell.execute_reply": "2023-01-30T05:45:46.994860Z",
     "shell.execute_reply.started": "2023-01-30T05:45:46.991267Z"
    }
   },
   "outputs": [],
   "source": [
    "# Define a dictionary to store the results of each model\n",
    "results = {}"
   ]
  },
  {
   "cell_type": "code",
   "execution_count": 16,
   "metadata": {
    "execution": {
     "iopub.execute_input": "2023-01-30T05:46:15.947054Z",
     "iopub.status.busy": "2023-01-30T05:46:15.946658Z",
     "iopub.status.idle": "2023-01-30T05:46:17.300142Z",
     "shell.execute_reply": "2023-01-30T05:46:17.298502Z",
     "shell.execute_reply.started": "2023-01-30T05:46:15.947024Z"
    }
   },
   "outputs": [
    {
     "name": "stderr",
     "output_type": "stream",
     "text": [
      "C:\\Users\\Renish Minari\\AppData\\Roaming\\Python\\Python39\\site-packages\\sklearn\\linear_model\\_logistic.py:444: ConvergenceWarning: lbfgs failed to converge (status=1):\n",
      "STOP: TOTAL NO. of ITERATIONS REACHED LIMIT.\n",
      "\n",
      "Increase the number of iterations (max_iter) or scale the data as shown in:\n",
      "    https://scikit-learn.org/stable/modules/preprocessing.html\n",
      "Please also refer to the documentation for alternative solver options:\n",
      "    https://scikit-learn.org/stable/modules/linear_model.html#logistic-regression\n",
      "  n_iter_i = _check_optimize_result(\n"
     ]
    }
   ],
   "source": [
    "# Train Logistic Regression model\n",
    "model_LR = LogisticRegression()\n",
    "model_LR.fit(X_train, y_train)\n",
    "\n",
    "# Predict the target values for test set\n",
    "y_pred_LR = model_LR.predict(X_test)\n",
    "\n",
    "# Evaluate the Logistic Regression model\n",
    "accuracy_LR = accuracy_score(y_test, y_pred_LR)\n",
    "precision_LR = precision_score(y_test, y_pred_LR)\n",
    "recall_LR = recall_score(y_test, y_pred_LR)\n",
    "f1_LR = f1_score(y_test, y_pred_LR)\n",
    "\n",
    "# Store the results of Logistic Regression model in the dictionary\n",
    "results[\"Logistic Regression\"] = {\"accuracy\": accuracy_LR, \n",
    "                                  \"precision\": precision_LR, \n",
    "                                  \"recall\": recall_LR, \n",
    "                                  \"f1_score\": f1_LR\n",
    "                                 }"
   ]
  },
  {
   "cell_type": "code",
   "execution_count": 17,
   "metadata": {
    "execution": {
     "iopub.execute_input": "2023-01-30T05:46:49.241432Z",
     "iopub.status.busy": "2023-01-30T05:46:49.241000Z",
     "iopub.status.idle": "2023-01-30T05:46:49.923584Z",
     "shell.execute_reply": "2023-01-30T05:46:49.922378Z",
     "shell.execute_reply.started": "2023-01-30T05:46:49.241397Z"
    }
   },
   "outputs": [],
   "source": [
    "# Train KNN model\n",
    "model_KNN = KNeighborsClassifier()\n",
    "model_KNN.fit(X_train, y_train)\n",
    "\n",
    "# Predict the target values for test set\n",
    "y_pred_KNN = model_KNN.predict(X_test)\n",
    "\n",
    "# Evaluate the KNN model\n",
    "accuracy_KNN = accuracy_score(y_test, y_pred_KNN)\n",
    "precision_KNN = precision_score(y_test, y_pred_KNN)\n",
    "recall_KNN = recall_score(y_test, y_pred_KNN)\n",
    "f1_KNN = f1_score(y_test, y_pred_KNN)\n",
    "\n",
    "# Store the results of KNN model in the dictionary\n",
    "results[\"KNN\"] = {\"accuracy\": accuracy_KNN, \n",
    "                  \"precision\": precision_KNN, \n",
    "                  \"recall\": recall_KNN, \n",
    "                  \"f1_score\": f1_KNN\n",
    "                 }"
   ]
  },
  {
   "cell_type": "code",
   "execution_count": 19,
   "metadata": {
    "execution": {
     "iopub.execute_input": "2023-01-30T05:47:25.831895Z",
     "iopub.status.busy": "2023-01-30T05:47:25.831499Z",
     "iopub.status.idle": "2023-01-30T05:47:55.821981Z",
     "shell.execute_reply": "2023-01-30T05:47:55.821121Z",
     "shell.execute_reply.started": "2023-01-30T05:47:25.831865Z"
    }
   },
   "outputs": [],
   "source": [
    "# Train SVM model\n",
    "model_SVM = SVC()\n",
    "model_SVM.fit(X_train, y_train)\n",
    "\n",
    "# Predict the target values for test set\n",
    "y_pred_SVM = model_SVM.predict(X_test)\n",
    "\n",
    "# Evaluate the SVM model\n",
    "accuracy_SVM = accuracy_score(y_test, y_pred_SVM)\n",
    "precision_SVM = precision_score(y_test, y_pred_SVM)\n",
    "recall_SVM = recall_score(y_test, y_pred_SVM)\n",
    "f1_SVM = f1_score(y_test, y_pred_SVM)\n",
    "\n",
    "# Store the results of SVM model in the dictionary\n",
    "results[\"SVM\"] = {\"accuracy\": accuracy_SVM, \n",
    "                  \"precision\": precision_SVM, \n",
    "                  \"recall\": recall_SVM, \n",
    "                  \"f1_score\": f1_SVM\n",
    "                 }"
   ]
  },
  {
   "cell_type": "code",
   "execution_count": 20,
   "metadata": {
    "execution": {
     "iopub.execute_input": "2023-01-30T05:47:55.823972Z",
     "iopub.status.busy": "2023-01-30T05:47:55.823461Z",
     "iopub.status.idle": "2023-01-30T05:47:56.089561Z",
     "shell.execute_reply": "2023-01-30T05:47:56.088425Z",
     "shell.execute_reply.started": "2023-01-30T05:47:55.823941Z"
    }
   },
   "outputs": [],
   "source": [
    "# Train Naive Bayes model\n",
    "model_NB = GaussianNB()\n",
    "model_NB.fit(X_train, y_train)\n",
    "\n",
    "# Predict the target values for test set\n",
    "y_pred_NB = model_NB.predict(X_test)\n",
    "\n",
    "# Evaluate the Naive Bayes model\n",
    "accuracy_NB = accuracy_score(y_test, y_pred_NB)\n",
    "precision_NB = precision_score(y_test, y_pred_NB)\n",
    "recall_NB = recall_score(y_test, y_pred_NB)\n",
    "f1_NB = f1_score(y_test, y_pred_NB)\n",
    "\n",
    "# Store the results of Naive Bayes model in the dictionary\n",
    "results[\"Naive Bayes\"] = {\"accuracy\": accuracy_NB, \n",
    "                          \"precision\": precision_NB, \n",
    "                          \"recall\": recall_NB, \n",
    "                          \"f1_score\": f1_NB\n",
    "                         }"
   ]
  },
  {
   "cell_type": "code",
   "execution_count": 21,
   "metadata": {
    "execution": {
     "iopub.execute_input": "2023-01-30T05:48:19.281384Z",
     "iopub.status.busy": "2023-01-30T05:48:19.280966Z",
     "iopub.status.idle": "2023-01-30T05:48:20.463947Z",
     "shell.execute_reply": "2023-01-30T05:48:20.462776Z",
     "shell.execute_reply.started": "2023-01-30T05:48:19.281352Z"
    }
   },
   "outputs": [],
   "source": [
    "# Train Decision Tree model\n",
    "model_DT = DecisionTreeClassifier()\n",
    "model_DT.fit(X_train, y_train)\n",
    "\n",
    "# Predict the target values for test set\n",
    "y_pred_DT = model_DT.predict(X_test)\n",
    "\n",
    "# Evaluate the Decision Tree model\n",
    "accuracy_DT = accuracy_score(y_test, y_pred_DT)\n",
    "precision_DT = precision_score(y_test, y_pred_DT)\n",
    "recall_DT = recall_score(y_test, y_pred_DT)\n",
    "f1_DT = f1_score(y_test, y_pred_DT)\n",
    "\n",
    "# Store the results of Decision Tree model in the dictionary\n",
    "results[\"Decision Tree\"] = {\"accuracy\": accuracy_DT, \n",
    "                            \"precision\": precision_DT, \n",
    "                            \"recall\": recall_DT, \n",
    "                            \"f1_score\": f1_DT\n",
    "                           }"
   ]
  },
  {
   "cell_type": "code",
   "execution_count": 22,
   "metadata": {
    "execution": {
     "iopub.execute_input": "2023-01-30T05:49:05.521761Z",
     "iopub.status.busy": "2023-01-30T05:49:05.520470Z",
     "iopub.status.idle": "2023-01-30T05:49:08.270022Z",
     "shell.execute_reply": "2023-01-30T05:49:08.268722Z",
     "shell.execute_reply.started": "2023-01-30T05:49:05.521709Z"
    }
   },
   "outputs": [],
   "source": [
    "# Train Random Forest model\n",
    "model_RF = RandomForestClassifier()\n",
    "model_RF.fit(X_train, y_train)\n",
    "\n",
    "# Predict the target values for test set\n",
    "y_pred_RF = model_RF.predict(X_test)\n",
    "\n",
    "# Evaluate the Random Forest model\n",
    "accuracy_RF = accuracy_score(y_test, y_pred_RF)\n",
    "precision_RF = precision_score(y_test, y_pred_RF)\n",
    "recall_RF = recall_score(y_test, y_pred_RF)\n",
    "f1_RF = f1_score(y_test, y_pred_RF)\n",
    "\n",
    "# Store the results of Random Forest model in the dictionary\n",
    "results[\"Random Forest\"] = {\"accuracy\": accuracy_RF, \n",
    "                            \"precision\": precision_RF, \n",
    "                            \"recall\": recall_RF, \n",
    "                            \"f1_score\": f1_RF\n",
    "                           }\n"
   ]
  },
  {
   "cell_type": "code",
   "execution_count": 23,
   "metadata": {
    "execution": {
     "iopub.execute_input": "2023-01-30T05:49:24.569404Z",
     "iopub.status.busy": "2023-01-30T05:49:24.568994Z",
     "iopub.status.idle": "2023-01-30T05:49:25.932329Z",
     "shell.execute_reply": "2023-01-30T05:49:25.930686Z",
     "shell.execute_reply.started": "2023-01-30T05:49:24.569369Z"
    }
   },
   "outputs": [
    {
     "name": "stderr",
     "output_type": "stream",
     "text": [
      "C:\\Users\\Renish Minari\\AppData\\Roaming\\Python\\Python39\\site-packages\\sklearn\\linear_model\\_logistic.py:444: ConvergenceWarning: lbfgs failed to converge (status=1):\n",
      "STOP: TOTAL NO. of ITERATIONS REACHED LIMIT.\n",
      "\n",
      "Increase the number of iterations (max_iter) or scale the data as shown in:\n",
      "    https://scikit-learn.org/stable/modules/preprocessing.html\n",
      "Please also refer to the documentation for alternative solver options:\n",
      "    https://scikit-learn.org/stable/modules/linear_model.html#logistic-regression\n",
      "  n_iter_i = _check_optimize_result(\n"
     ]
    }
   ],
   "source": [
    "# Train Logistic Regression model\n",
    "model_LR = LogisticRegression()\n",
    "model_LR.fit(X_train, y_train)\n",
    "\n",
    "# Predict the target values for test set\n",
    "y_pred_LR = model_LR.predict(X_test)\n",
    "\n",
    "# Evaluate the Logistic Regression model\n",
    "accuracy_LR = accuracy_score(y_test, y_pred_LR)\n",
    "precision_LR = precision_score(y_test, y_pred_LR)\n",
    "recall_LR = recall_score(y_test, y_pred_LR)\n",
    "f1_LR = f1_score(y_test, y_pred_LR)\n",
    "\n",
    "# Store the results of Logistic Regression model in the dictionary\n",
    "results[\"Logistic Regression\"] = {\"accuracy\": accuracy_LR, \n",
    "                                  \"precision\": precision_LR, \n",
    "                                  \"recall\": recall_LR, \n",
    "                                  \"f1_score\": f1_LR\n",
    "                                 }"
   ]
  },
  {
   "cell_type": "markdown",
   "metadata": {},
   "source": [
    "## Visualization of performance of all the models"
   ]
  },
  {
   "cell_type": "code",
   "execution_count": 24,
   "metadata": {
    "execution": {
     "iopub.execute_input": "2023-01-30T05:58:16.032483Z",
     "iopub.status.busy": "2023-01-30T05:58:16.031966Z",
     "iopub.status.idle": "2023-01-30T05:58:16.041149Z",
     "shell.execute_reply": "2023-01-30T05:58:16.039935Z",
     "shell.execute_reply.started": "2023-01-30T05:58:16.032439Z"
    }
   },
   "outputs": [
    {
     "data": {
      "text/plain": [
       "{'Logistic Regression': {'accuracy': 0.9690821256038648,\n",
       "  'precision': 0.9347079037800687,\n",
       "  'recall': 0.9543859649122807,\n",
       "  'f1_score': 0.9444444444444444},\n",
       " 'KNN': {'accuracy': 0.8541062801932368,\n",
       "  'precision': 0.7018072289156626,\n",
       "  'recall': 0.8175438596491228,\n",
       "  'f1_score': 0.7552674230145866},\n",
       " 'SVM': {'accuracy': 0.7951690821256039,\n",
       "  'precision': 0.8067226890756303,\n",
       "  'recall': 0.3368421052631579,\n",
       "  'f1_score': 0.4752475247524753},\n",
       " 'Naive Bayes': {'accuracy': 0.9584541062801932,\n",
       "  'precision': 0.8853503184713376,\n",
       "  'recall': 0.9754385964912281,\n",
       "  'f1_score': 0.9282136894824708},\n",
       " 'Decision Tree': {'accuracy': 0.9304347826086956,\n",
       "  'precision': 0.863481228668942,\n",
       "  'recall': 0.887719298245614,\n",
       "  'f1_score': 0.8754325259515572},\n",
       " 'Random Forest': {'accuracy': 0.9652173913043478,\n",
       "  'precision': 0.9337979094076655,\n",
       "  'recall': 0.9403508771929825,\n",
       "  'f1_score': 0.937062937062937}}"
      ]
     },
     "execution_count": 24,
     "metadata": {},
     "output_type": "execute_result"
    }
   ],
   "source": [
    "# Print the final results of all models\n",
    "results"
   ]
  },
  {
   "cell_type": "code",
   "execution_count": 25,
   "metadata": {
    "execution": {
     "iopub.execute_input": "2023-01-30T05:58:40.343239Z",
     "iopub.status.busy": "2023-01-30T05:58:40.341965Z",
     "iopub.status.idle": "2023-01-30T05:58:40.584628Z",
     "shell.execute_reply": "2023-01-30T05:58:40.583295Z",
     "shell.execute_reply.started": "2023-01-30T05:58:40.343181Z"
    }
   },
   "outputs": [
    {
     "data": {
      "image/png": "[encoded data removed]",
      "text/plain": [
       "<Figure size 720x360 with 1 Axes>"
      ]
     },
     "metadata": {
      "needs_background": "light"
     },
     "output_type": "display_data"
    }
   ],
   "source": [
    "# Plot the accuracy of all models\n",
    "plt.figure(figsize=(10,5))\n",
    "plt.bar(results.keys(), [result[\"accuracy\"] for result in results.values()])\n",
    "plt.title(\"Accuracy of Different Models\")\n",
    "plt.xlabel(\"Models\")\n",
    "plt.ylabel(\"Accuracy\")\n",
    "plt.ylim(0, 1)\n",
    "plt.show()"
   ]
  },
  {
   "cell_type": "code",
   "execution_count": 26,
   "metadata": {
    "execution": {
     "iopub.execute_input": "2023-01-30T05:58:57.006228Z",
     "iopub.status.busy": "2023-01-30T05:58:57.005073Z",
     "iopub.status.idle": "2023-01-30T05:58:57.214036Z",
     "shell.execute_reply": "2023-01-30T05:58:57.212658Z",
     "shell.execute_reply.started": "2023-01-30T05:58:57.006171Z"
    }
   },
   "outputs": [
    {
     "data": {
      "image/png": "[encoded data removed]",
      "text/plain": [
       "<Figure size 720x360 with 1 Axes>"
      ]
     },
     "metadata": {
      "needs_background": "light"
     },
     "output_type": "display_data"
    }
   ],
   "source": [
    "# Plot the precision of all models\n",
    "plt.figure(figsize=(10,5))\n",
    "plt.bar(results.keys(), [result[\"precision\"] for result in results.values()])\n",
    "plt.title(\"Precision of Different Models\")\n",
    "plt.xlabel(\"Models\")\n",
    "plt.ylabel(\"Precision\")\n",
    "plt.ylim(0, 1)\n",
    "plt.show()"
   ]
  },
  {
   "cell_type": "code",
   "execution_count": 27,
   "metadata": {
    "execution": {
     "iopub.execute_input": "2023-01-30T05:59:09.437075Z",
     "iopub.status.busy": "2023-01-30T05:59:09.436648Z",
     "iopub.status.idle": "2023-01-30T05:59:09.647827Z",
     "shell.execute_reply": "2023-01-30T05:59:09.646555Z",
     "shell.execute_reply.started": "2023-01-30T05:59:09.437041Z"
    }
   },
   "outputs": [
    {
     "data": {
      "image/png": "[encoded data removed]",
      "text/plain": [
       "<Figure size 720x360 with 1 Axes>"
      ]
     },
     "metadata": {
      "needs_background": "light"
     },
     "output_type": "display_data"
    }
   ],
   "source": [
    "# Plot the recall of all models\n",
    "plt.figure(figsize=(10,5))\n",
    "plt.bar(results.keys(), [result[\"recall\"] for result in results.values()])\n",
    "plt.title(\"Recall of Different Models\")\n",
    "plt.xlabel(\"Models\")\n",
    "plt.ylabel(\"Recall\")\n",
    "plt.ylim(0, 1)\n",
    "plt.show()"
   ]
  },
  {
   "cell_type": "code",
   "execution_count": 28,
   "metadata": {
    "execution": {
     "iopub.execute_input": "2023-01-30T05:59:16.928551Z",
     "iopub.status.busy": "2023-01-30T05:59:16.928150Z",
     "iopub.status.idle": "2023-01-30T05:59:17.137864Z",
     "shell.execute_reply": "2023-01-30T05:59:17.136653Z",
     "shell.execute_reply.started": "2023-01-30T05:59:16.928507Z"
    }
   },
   "outputs": [
    {
     "data": {
      "image/png": "[encoded data removed]",
      "text/plain": [
       "<Figure size 720x360 with 1 Axes>"
      ]
     },
     "metadata": {
      "needs_background": "light"
     },
     "output_type": "display_data"
    }
   ],
   "source": [
    "# Plot the F1-score of all models\n",
    "plt.figure(figsize=(10,5))\n",
    "plt.bar(results.keys(), [result[\"f1_score\"] for result in results.values()])\n",
    "plt.title(\"F1-Score of Different Models\")\n",
    "plt.xlabel(\"Models\")\n",
    "plt.ylabel(\"F1-Score\")\n",
    "plt.ylim(0, 1)\n",
    "plt.show()"
   ]
  },
  {
   "cell_type": "code",
   "execution_count": 29,
   "metadata": {
    "execution": {
     "iopub.execute_input": "2023-01-30T06:09:41.763797Z",
     "iopub.status.busy": "2023-01-30T06:09:41.762998Z",
     "iopub.status.idle": "2023-01-30T06:09:42.181134Z",
     "shell.execute_reply": "2023-01-30T06:09:42.179897Z",
     "shell.execute_reply.started": "2023-01-30T06:09:41.763749Z"
    }
   },
   "outputs": [
    {
     "data": {
      "image/png": "[encoded data removed]",
      "text/plain": [
       "<Figure size 432x288 with 1 Axes>"
      ]
     },
     "metadata": {
      "needs_background": "light"
     },
     "output_type": "display_data"
    }
   ],
   "source": [
    "# extract metrics values\n",
    "accuracies = [results[model]['accuracy'] for model in results]\n",
    "precisions = [results[model]['precision'] for model in results]\n",
    "recalls = [results[model]['recall'] for model in results]\n",
    "f1_scores = [results[model]['f1_score'] for model in results]\n",
    "\n",
    "# plot bar chart\n",
    "bar_width = 0.2\n",
    "index = np.arange(len(results))\n",
    "\n",
    "plt.bar(index, accuracies, bar_width, label='Accuracy')\n",
    "plt.bar(index + bar_width, precisions, bar_width, label='Precision')\n",
    "plt.bar(index + 2 * bar_width, recalls, bar_width, label='Recall')\n",
    "plt.bar(index + 3 * bar_width, f1_scores, bar_width, label='F1 Score')\n",
    "\n",
    "plt.xticks(index + bar_width, list(results.keys()))\n",
    "plt.legend()\n",
    "plt.show()"
   ]
  },
  {
   "cell_type": "markdown",
   "metadata": {},
   "source": [
    "**precision (0.922), recall (0.954), and f1_score (0.938). These findings suggest that the Logistic Regression model excels in accurately determining whether emails are spam or not spam, while minimizing both false positives and false negatives.\n",
    "\n",
    "**It is important to acknowledge that the performance of a model is contingent upon the specific use case and the problem being addressed. For instance, if the cost of incorrectly classifying an email as spam when it is not exceeds other considerations, a model with a higher recall (even if its precision is lower) may be more preferable.**"
   ]
  }
 ],
 "metadata": {
  "kernelspec": {
   "display_name": "Python 3 (ipykernel)",
   "language": "python",
   "name": "python3"
  },
  "language_info": {
   "codemirror_mode": {
    "name": "ipython",
    "version": 3
   },
   "file_extension": ".py",
   "mimetype": "text/x-python",
   "name": "python",
   "nbconvert_exporter": "python",
   "pygments_lexer": "ipython3",
   "version": "3.9.12"
  }
 },
 "nbformat": 4,
 "nbformat_minor": 4
}
